{
 "cells": [
  {
   "cell_type": "code",
   "execution_count": 4,
   "metadata": {},
   "outputs": [
    {
     "name": "stdout",
     "output_type": "stream",
     "text": [
      "Erro: Message: \n",
      "\n"
     ]
    }
   ],
   "source": [
    "import re  # Importa o módulo de expressões regulares para manipulação de strings\n",
    "from seleniumbase import Driver  # Importa a classe Driver do seleniumbase para controle do navegador\n",
    "import pandas as pd  # Importa a biblioteca pandas para manipulação de dados\n",
    "from selenium.webdriver.common.by import By  # Importa By para localizar elementos HTML\n",
    "from selenium.webdriver.support import expected_conditions as EC  # Importa condições esperadas para controle de fluxo\n",
    "from selenium.webdriver.support.ui import WebDriverWait  # Importa WebDriverWait para espera explícita\n",
    "from a_selenium2df import get_df  # Importa função personalizada para converter dados do Selenium para DataFrame\n",
    "from PrettyColorPrinter import add_printer  # Importa função para adicionar impressora colorida\n",
    "\n",
    "# Adiciona impressora colorida para o console\n",
    "add_printer(1)\n",
    "\n",
    "# Função para obter DataFrame a partir do Selenium\n",
    "def obter_dataframe(driver, query=\"*\"):\n",
    "    df = pd.DataFrame()\n",
    "    # Tenta obter DataFrame enquanto estiver vazio\n",
    "    while df.empty:\n",
    "        df = get_df(\n",
    "            driver,  # Driver do Selenium\n",
    "            By,  # Módulo para localização de elementos\n",
    "            WebDriverWait,  # Módulo para espera explícita\n",
    "            EC,  # Módulo para condições esperadas\n",
    "            queryselector=query,  # Seletor de consulta\n",
    "            with_methods=True,  # Inclui métodos no DataFrame\n",
    "        )\n",
    "    return df\n",
    "\n",
    "# Inicializa o driver do Selenium com Undetected Chrome (uc)\n",
    "driver = Driver(uc=True)\n",
    "# Abre a página da Sportingbet\n",
    "driver.get(\"https://sports.sportingbet.com/pt-br/sports/futebol-4/amanh%C3%A3\")\n",
    "\n",
    "try:\n",
    "    # Aguarda até que todos os elementos sejam carregados na página\n",
    "    WebDriverWait(driver, 20).until(EC.presence_of_all_elements_located((By.CLASS_NAME, 'ms-event')))\n",
    "    \n",
    "    # Obtém DataFrame com dados da página usando o seletor 'ms-event'\n",
    "    df = obter_dataframe(driver, query='ms-event')\n",
    "\n",
    "    # Processa o DataFrame para extrair e limpar os dados\n",
    "    df = (df.dropna(subset=['aa_innerText'])  # Remove linhas com valores nulos na coluna 'aa_innerText'\n",
    "          .aa_innerText.apply(lambda x: pd.Series(\n",
    "              [q for q in re.split(r'[\\n\\r]', x) if not re.match(r'^\\d+$', q)]))  # Divide o texto em partes e remove números isolados\n",
    "          [[2, 0, 1, 4, 5, 6]]  # Seleciona colunas específicas\n",
    "          .rename(columns={0: 'team1_nome', 1: 'team2_nome', 2: 'data', 4: 'team1', 5: 'empate', 6: 'team2'})  # Renomeia colunas\n",
    "          .dropna()  # Remove linhas com valores nulos\n",
    "          .assign(\n",
    "              team1=lambda q: q.team1.str.replace(',', '.'),  # Substitui vírgulas por pontos nos valores da coluna 'team1'\n",
    "              team2=lambda q: q.team2.str.replace(',', '.'),  # Substitui vírgulas por pontos nos valores da coluna 'team2'\n",
    "              empate=lambda q: q.empate.str.replace(',', '.')  # Substitui vírgulas por pontos nos valores da coluna 'empate'\n",
    "          )\n",
    "          .astype({'team1': 'Float64', 'empate': 'Float64', 'team2': 'Float64'}))  # Converte colunas para tipo float\n",
    "\n",
    "    # Imprime o DataFrame\n",
    "    print(df)\n",
    "\n",
    "except Exception as e:\n",
    "    # Captura e imprime qualquer exceção que ocorrer\n",
    "    print(f\"Erro: {e}\")\n",
    "\n",
    "# Fecha o driver\n",
    "driver.quit()\n",
    "\n"
   ]
  }
 ],
 "metadata": {
  "kernelspec": {
   "display_name": "Python 3",
   "language": "python",
   "name": "python3"
  },
  "language_info": {
   "codemirror_mode": {
    "name": "ipython",
    "version": 3
   },
   "file_extension": ".py",
   "mimetype": "text/x-python",
   "name": "python",
   "nbconvert_exporter": "python",
   "pygments_lexer": "ipython3",
   "version": "3.12.3"
  }
 },
 "nbformat": 4,
 "nbformat_minor": 2
}
